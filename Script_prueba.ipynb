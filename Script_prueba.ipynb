{
 "cells": [
  {
   "cell_type": "markdown",
   "metadata": {},
   "source": [
    "#### Parte 1. Extracción de Productos del PDF\n"
   ]
  },
  {
   "cell_type": "code",
   "execution_count": 443,
   "metadata": {},
   "outputs": [],
   "source": [
    "import pandas as pd"
   ]
  },
  {
   "cell_type": "code",
   "execution_count": 444,
   "metadata": {},
   "outputs": [],
   "source": [
    "from pypdf import PdfReader\n",
    "reader = PdfReader(\"3. FAC001.pdf\")\n",
    "number_of_pages = len(reader.pages)\n",
    "page = reader.pages[0]\n",
    "text = page.extract_text() # Extrae el texto del pdf "
   ]
  },
  {
   "cell_type": "code",
   "execution_count": 445,
   "metadata": {},
   "outputs": [],
   "source": [
    "#---- Para el segundo pdf -------\n",
    "reader2 = PdfReader(\"4. FAC002.pdf\")\n",
    "number_of_pages2 = len(reader2.pages)\n",
    "page2 = reader2.pages[0]\n",
    "text2 = page2.extract_text()"
   ]
  },
  {
   "cell_type": "code",
   "execution_count": 446,
   "metadata": {},
   "outputs": [],
   "source": [
    "# Dividir la cadena en columna y valor\n",
    "texto_dividido = text.split('\\n')\n",
    "for i in range(0,len(texto_dividido)):\n",
    "    texto_dividido[i] = texto_dividido[i].split(\" \")\n",
    "texto_dividido[3][1] = texto_dividido[3][1] + \" \" + texto_dividido[3][2]\n",
    "\n",
    "# Dividir la cadena en columna y valor\n",
    "texto_dividido2 = text2.split('\\n')\n",
    "for i in range(0,len(texto_dividido2)):\n",
    "    texto_dividido2[i] = texto_dividido2[i].split(\" \")\n",
    "    \n",
    "texto_dividido2[4][1] = texto_dividido2[4][1] + \" \" + texto_dividido2[4][2]"
   ]
  },
  {
   "cell_type": "code",
   "execution_count": 447,
   "metadata": {},
   "outputs": [],
   "source": [
    "datos_limpios = [[elemento for elemento in lista if elemento != 'Industrial'] for lista in texto_dividido]\n",
    "datos_limpios2 = [[elemento for elemento in lista if elemento != 'solar'] for lista in texto_dividido2]"
   ]
  },
  {
   "cell_type": "code",
   "execution_count": 448,
   "metadata": {},
   "outputs": [
    {
     "data": {
      "text/plain": [
       "[['numero_factura', 'FAC002'],\n",
       " ['fecha_compra', '15/01/2025'],\n",
       " ['codigo_producto', 'nombre_producto', 'cantidad'],\n",
       " ['PB03', 'Desodorante', '15'],\n",
       " ['PB04', 'Protector solar', '7']]"
      ]
     },
     "execution_count": 448,
     "metadata": {},
     "output_type": "execute_result"
    }
   ],
   "source": [
    "datos_limpios2 "
   ]
  },
  {
   "cell_type": "code",
   "execution_count": 449,
   "metadata": {},
   "outputs": [],
   "source": [
    "df = pd.DataFrame(datos_limpios[3:], columns=datos_limpios[2])\n",
    "df_segundopdf = pd.DataFrame(datos_limpios2[3:], columns=datos_limpios2[2])"
   ]
  },
  {
   "cell_type": "code",
   "execution_count": 450,
   "metadata": {},
   "outputs": [
    {
     "data": {
      "text/html": [
       "<div>\n",
       "<style scoped>\n",
       "    .dataframe tbody tr th:only-of-type {\n",
       "        vertical-align: middle;\n",
       "    }\n",
       "\n",
       "    .dataframe tbody tr th {\n",
       "        vertical-align: top;\n",
       "    }\n",
       "\n",
       "    .dataframe thead th {\n",
       "        text-align: right;\n",
       "    }\n",
       "</style>\n",
       "<table border=\"1\" class=\"dataframe\">\n",
       "  <thead>\n",
       "    <tr style=\"text-align: right;\">\n",
       "      <th></th>\n",
       "      <th>codigo_producto</th>\n",
       "      <th>nombre_producto</th>\n",
       "      <th>cantidad</th>\n",
       "    </tr>\n",
       "  </thead>\n",
       "  <tbody>\n",
       "    <tr>\n",
       "      <th>0</th>\n",
       "      <td>PB03</td>\n",
       "      <td>Desodorante</td>\n",
       "      <td>15</td>\n",
       "    </tr>\n",
       "    <tr>\n",
       "      <th>1</th>\n",
       "      <td>PB04</td>\n",
       "      <td>Protector solar</td>\n",
       "      <td>7</td>\n",
       "    </tr>\n",
       "  </tbody>\n",
       "</table>\n",
       "</div>"
      ],
      "text/plain": [
       "  codigo_producto  nombre_producto cantidad\n",
       "0            PB03      Desodorante       15\n",
       "1            PB04  Protector solar        7"
      ]
     },
     "execution_count": 450,
     "metadata": {},
     "output_type": "execute_result"
    }
   ],
   "source": [
    "df_segundopdf"
   ]
  },
  {
   "cell_type": "code",
   "execution_count": 451,
   "metadata": {},
   "outputs": [
    {
     "data": {
      "text/html": [
       "<div>\n",
       "<style scoped>\n",
       "    .dataframe tbody tr th:only-of-type {\n",
       "        vertical-align: middle;\n",
       "    }\n",
       "\n",
       "    .dataframe tbody tr th {\n",
       "        vertical-align: top;\n",
       "    }\n",
       "\n",
       "    .dataframe thead th {\n",
       "        text-align: right;\n",
       "    }\n",
       "</style>\n",
       "<table border=\"1\" class=\"dataframe\">\n",
       "  <thead>\n",
       "    <tr style=\"text-align: right;\">\n",
       "      <th></th>\n",
       "      <th>codigo_producto</th>\n",
       "      <th>nombre_producto</th>\n",
       "      <th>cantidad</th>\n",
       "    </tr>\n",
       "  </thead>\n",
       "  <tbody>\n",
       "    <tr>\n",
       "      <th>0</th>\n",
       "      <td>PB01</td>\n",
       "      <td>Alcohol Industrial</td>\n",
       "      <td>30</td>\n",
       "    </tr>\n",
       "    <tr>\n",
       "      <th>1</th>\n",
       "      <td>PB02</td>\n",
       "      <td>Shampoo</td>\n",
       "      <td>10</td>\n",
       "    </tr>\n",
       "  </tbody>\n",
       "</table>\n",
       "</div>"
      ],
      "text/plain": [
       "  codigo_producto     nombre_producto cantidad\n",
       "0            PB01  Alcohol Industrial       30\n",
       "1            PB02             Shampoo       10"
      ]
     },
     "execution_count": 451,
     "metadata": {},
     "output_type": "execute_result"
    }
   ],
   "source": [
    "df"
   ]
  },
  {
   "cell_type": "code",
   "execution_count": 452,
   "metadata": {},
   "outputs": [],
   "source": [
    "columna = []\n",
    "valor = []\n",
    "for elemento in datos_limpios[:2]:\n",
    "    columna.append(elemento[0])\n",
    "    if elemento[1]:\n",
    "        valor.append(elemento[1])\n",
    "columna2 = []\n",
    "valor2 = []\n",
    "for elemento in datos_limpios2[:2]:\n",
    "    columna2.append(elemento[0])\n",
    "    if elemento[1]:\n",
    "        valor2.append(elemento[1])\n"
   ]
  },
  {
   "cell_type": "code",
   "execution_count": 453,
   "metadata": {},
   "outputs": [],
   "source": [
    "df_tabla_chiquis = pd.DataFrame([valor]*2, columns=columna)\n",
    "df_tabla_chiquis2 = pd.DataFrame([valor2]*2, columns=columna2)"
   ]
  },
  {
   "cell_type": "code",
   "execution_count": 454,
   "metadata": {},
   "outputs": [],
   "source": [
    "# Unir ambas tablas por índice\n",
    "db_completo_FAC001 = pd.merge(df_tabla_chiquis,df,left_index=True, right_index=True)\n",
    "db_completo_FAC002 = pd.merge(df_tabla_chiquis2,df_segundopdf ,left_index=True, right_index=True)"
   ]
  },
  {
   "cell_type": "code",
   "execution_count": 465,
   "metadata": {},
   "outputs": [],
   "source": [
    "db_pdfs_unidos = pd.concat([db_completo_FAC001,db_completo_FAC002])\n",
    "db_pdfs_unidos['fecha_compra'] = pd.to_datetime(db_pdfs_unidos['fecha_compra'], format='%d/%m/%Y')"
   ]
  },
  {
   "cell_type": "code",
   "execution_count": 504,
   "metadata": {},
   "outputs": [
    {
     "data": {
      "text/html": [
       "<div>\n",
       "<style scoped>\n",
       "    .dataframe tbody tr th:only-of-type {\n",
       "        vertical-align: middle;\n",
       "    }\n",
       "\n",
       "    .dataframe tbody tr th {\n",
       "        vertical-align: top;\n",
       "    }\n",
       "\n",
       "    .dataframe thead th {\n",
       "        text-align: right;\n",
       "    }\n",
       "</style>\n",
       "<table border=\"1\" class=\"dataframe\">\n",
       "  <thead>\n",
       "    <tr style=\"text-align: right;\">\n",
       "      <th></th>\n",
       "      <th>numero_factura</th>\n",
       "      <th>fecha_compra</th>\n",
       "      <th>codigo_producto</th>\n",
       "    </tr>\n",
       "  </thead>\n",
       "  <tbody>\n",
       "    <tr>\n",
       "      <th>0</th>\n",
       "      <td>FAC001</td>\n",
       "      <td>2025-01-21</td>\n",
       "      <td>PB01</td>\n",
       "    </tr>\n",
       "    <tr>\n",
       "      <th>1</th>\n",
       "      <td>FAC001</td>\n",
       "      <td>2025-01-21</td>\n",
       "      <td>PB02</td>\n",
       "    </tr>\n",
       "    <tr>\n",
       "      <th>0</th>\n",
       "      <td>FAC002</td>\n",
       "      <td>2025-01-15</td>\n",
       "      <td>PB03</td>\n",
       "    </tr>\n",
       "    <tr>\n",
       "      <th>1</th>\n",
       "      <td>FAC002</td>\n",
       "      <td>2025-01-15</td>\n",
       "      <td>PB04</td>\n",
       "    </tr>\n",
       "  </tbody>\n",
       "</table>\n",
       "</div>"
      ],
      "text/plain": [
       "  numero_factura fecha_compra codigo_producto\n",
       "0         FAC001   2025-01-21            PB01\n",
       "1         FAC001   2025-01-21            PB02\n",
       "0         FAC002   2025-01-15            PB03\n",
       "1         FAC002   2025-01-15            PB04"
      ]
     },
     "execution_count": 504,
     "metadata": {},
     "output_type": "execute_result"
    }
   ],
   "source": [
    "db_pdfs_unidos.iloc[:,0:3]"
   ]
  },
  {
   "cell_type": "code",
   "execution_count": 508,
   "metadata": {},
   "outputs": [
    {
     "data": {
      "text/html": [
       "<div>\n",
       "<style scoped>\n",
       "    .dataframe tbody tr th:only-of-type {\n",
       "        vertical-align: middle;\n",
       "    }\n",
       "\n",
       "    .dataframe tbody tr th {\n",
       "        vertical-align: top;\n",
       "    }\n",
       "\n",
       "    .dataframe thead th {\n",
       "        text-align: right;\n",
       "    }\n",
       "</style>\n",
       "<table border=\"1\" class=\"dataframe\">\n",
       "  <thead>\n",
       "    <tr style=\"text-align: right;\">\n",
       "      <th></th>\n",
       "      <th>numero_factura</th>\n",
       "      <th>fecha_compra</th>\n",
       "      <th>codigo_producto</th>\n",
       "      <th>nombre_producto</th>\n",
       "      <th>cantidad</th>\n",
       "    </tr>\n",
       "  </thead>\n",
       "  <tbody>\n",
       "    <tr>\n",
       "      <th>0</th>\n",
       "      <td>FAC001</td>\n",
       "      <td>2025-01-21</td>\n",
       "      <td>PB01</td>\n",
       "      <td>Alcohol Industrial</td>\n",
       "      <td>30</td>\n",
       "    </tr>\n",
       "    <tr>\n",
       "      <th>1</th>\n",
       "      <td>FAC001</td>\n",
       "      <td>2025-01-21</td>\n",
       "      <td>PB02</td>\n",
       "      <td>Shampoo</td>\n",
       "      <td>10</td>\n",
       "    </tr>\n",
       "    <tr>\n",
       "      <th>2</th>\n",
       "      <td>FAC002</td>\n",
       "      <td>2025-01-15</td>\n",
       "      <td>PB03</td>\n",
       "      <td>Desodorante</td>\n",
       "      <td>15</td>\n",
       "    </tr>\n",
       "    <tr>\n",
       "      <th>3</th>\n",
       "      <td>FAC002</td>\n",
       "      <td>2025-01-15</td>\n",
       "      <td>PB04</td>\n",
       "      <td>Protector solar</td>\n",
       "      <td>7</td>\n",
       "    </tr>\n",
       "  </tbody>\n",
       "</table>\n",
       "</div>"
      ],
      "text/plain": [
       "  numero_factura fecha_compra codigo_producto     nombre_producto cantidad\n",
       "0         FAC001   2025-01-21            PB01  Alcohol Industrial       30\n",
       "1         FAC001   2025-01-21            PB02             Shampoo       10\n",
       "2         FAC002   2025-01-15            PB03         Desodorante       15\n",
       "3         FAC002   2025-01-15            PB04     Protector solar        7"
      ]
     },
     "execution_count": 508,
     "metadata": {},
     "output_type": "execute_result"
    }
   ],
   "source": [
    "db_pdfs_unidos.reset_index(drop=True)"
   ]
  },
  {
   "cell_type": "code",
   "execution_count": 538,
   "metadata": {},
   "outputs": [],
   "source": [
    "# Exportación datos de excel\n",
    "db_facturas = pd.read_excel('2. BASE_DATOS_FACTURAS.xlsx')"
   ]
  },
  {
   "cell_type": "code",
   "execution_count": 540,
   "metadata": {},
   "outputs": [],
   "source": [
    "actualizacion = pd.merge(db_facturas.iloc[0:4, 0:3],db_pdfs_unidos.iloc[:,0:3], on = 'codigo_producto')\n",
    "db_facturas = pd.concat([actualizacion, db_facturas.iloc[4:6]])"
   ]
  },
  {
   "cell_type": "code",
   "execution_count": 541,
   "metadata": {},
   "outputs": [
    {
     "data": {
      "text/html": [
       "<div>\n",
       "<style scoped>\n",
       "    .dataframe tbody tr th:only-of-type {\n",
       "        vertical-align: middle;\n",
       "    }\n",
       "\n",
       "    .dataframe tbody tr th {\n",
       "        vertical-align: top;\n",
       "    }\n",
       "\n",
       "    .dataframe thead th {\n",
       "        text-align: right;\n",
       "    }\n",
       "</style>\n",
       "<table border=\"1\" class=\"dataframe\">\n",
       "  <thead>\n",
       "    <tr style=\"text-align: right;\">\n",
       "      <th></th>\n",
       "      <th>codigo_producto</th>\n",
       "      <th>nombre_producto</th>\n",
       "      <th>cantidad</th>\n",
       "      <th>numero_factura</th>\n",
       "      <th>fecha_compra</th>\n",
       "    </tr>\n",
       "  </thead>\n",
       "  <tbody>\n",
       "    <tr>\n",
       "      <th>0</th>\n",
       "      <td>PB01</td>\n",
       "      <td>Alcohol Industrial</td>\n",
       "      <td>30</td>\n",
       "      <td>FAC001</td>\n",
       "      <td>2025-01-21</td>\n",
       "    </tr>\n",
       "    <tr>\n",
       "      <th>1</th>\n",
       "      <td>PB02</td>\n",
       "      <td>Shampoo</td>\n",
       "      <td>10</td>\n",
       "      <td>FAC001</td>\n",
       "      <td>2025-01-21</td>\n",
       "    </tr>\n",
       "    <tr>\n",
       "      <th>2</th>\n",
       "      <td>PB03</td>\n",
       "      <td>Desodorante</td>\n",
       "      <td>15</td>\n",
       "      <td>FAC002</td>\n",
       "      <td>2025-01-15</td>\n",
       "    </tr>\n",
       "    <tr>\n",
       "      <th>3</th>\n",
       "      <td>PB04</td>\n",
       "      <td>Protector solar</td>\n",
       "      <td>7</td>\n",
       "      <td>FAC002</td>\n",
       "      <td>2025-01-15</td>\n",
       "    </tr>\n",
       "    <tr>\n",
       "      <th>4</th>\n",
       "      <td>PB05</td>\n",
       "      <td>Talco Blanco</td>\n",
       "      <td>40</td>\n",
       "      <td>FAC003</td>\n",
       "      <td>2024-07-12</td>\n",
       "    </tr>\n",
       "    <tr>\n",
       "      <th>5</th>\n",
       "      <td>PB06</td>\n",
       "      <td>Perfume</td>\n",
       "      <td>10</td>\n",
       "      <td>FAC003</td>\n",
       "      <td>2024-07-12</td>\n",
       "    </tr>\n",
       "  </tbody>\n",
       "</table>\n",
       "</div>"
      ],
      "text/plain": [
       "  codigo_producto     nombre_producto  cantidad numero_factura fecha_compra\n",
       "0            PB01  Alcohol Industrial        30         FAC001   2025-01-21\n",
       "1            PB02             Shampoo        10         FAC001   2025-01-21\n",
       "2            PB03         Desodorante        15         FAC002   2025-01-15\n",
       "3            PB04     Protector solar         7         FAC002   2025-01-15\n",
       "4            PB05        Talco Blanco        40         FAC003   2024-07-12\n",
       "5            PB06             Perfume        10         FAC003   2024-07-12"
      ]
     },
     "execution_count": 541,
     "metadata": {},
     "output_type": "execute_result"
    }
   ],
   "source": [
    "db_facturas"
   ]
  },
  {
   "cell_type": "code",
   "execution_count": 542,
   "metadata": {},
   "outputs": [],
   "source": [
    "db_facturas =  db_facturas [[\"codigo_producto\", \"nombre_producto\", \"cantidad\", \"fecha_compra\", \"numero_factura\"]]"
   ]
  },
  {
   "cell_type": "code",
   "execution_count": 543,
   "metadata": {},
   "outputs": [
    {
     "data": {
      "text/html": [
       "<div>\n",
       "<style scoped>\n",
       "    .dataframe tbody tr th:only-of-type {\n",
       "        vertical-align: middle;\n",
       "    }\n",
       "\n",
       "    .dataframe tbody tr th {\n",
       "        vertical-align: top;\n",
       "    }\n",
       "\n",
       "    .dataframe thead th {\n",
       "        text-align: right;\n",
       "    }\n",
       "</style>\n",
       "<table border=\"1\" class=\"dataframe\">\n",
       "  <thead>\n",
       "    <tr style=\"text-align: right;\">\n",
       "      <th></th>\n",
       "      <th>codigo_producto</th>\n",
       "      <th>nombre_producto</th>\n",
       "      <th>cantidad</th>\n",
       "      <th>fecha_compra</th>\n",
       "      <th>numero_factura</th>\n",
       "    </tr>\n",
       "  </thead>\n",
       "  <tbody>\n",
       "    <tr>\n",
       "      <th>0</th>\n",
       "      <td>PB01</td>\n",
       "      <td>Alcohol Industrial</td>\n",
       "      <td>30</td>\n",
       "      <td>2025-01-21</td>\n",
       "      <td>FAC001</td>\n",
       "    </tr>\n",
       "    <tr>\n",
       "      <th>1</th>\n",
       "      <td>PB02</td>\n",
       "      <td>Shampoo</td>\n",
       "      <td>10</td>\n",
       "      <td>2025-01-21</td>\n",
       "      <td>FAC001</td>\n",
       "    </tr>\n",
       "    <tr>\n",
       "      <th>2</th>\n",
       "      <td>PB03</td>\n",
       "      <td>Desodorante</td>\n",
       "      <td>15</td>\n",
       "      <td>2025-01-15</td>\n",
       "      <td>FAC002</td>\n",
       "    </tr>\n",
       "    <tr>\n",
       "      <th>3</th>\n",
       "      <td>PB04</td>\n",
       "      <td>Protector solar</td>\n",
       "      <td>7</td>\n",
       "      <td>2025-01-15</td>\n",
       "      <td>FAC002</td>\n",
       "    </tr>\n",
       "    <tr>\n",
       "      <th>4</th>\n",
       "      <td>PB05</td>\n",
       "      <td>Talco Blanco</td>\n",
       "      <td>40</td>\n",
       "      <td>2024-07-12</td>\n",
       "      <td>FAC003</td>\n",
       "    </tr>\n",
       "    <tr>\n",
       "      <th>5</th>\n",
       "      <td>PB06</td>\n",
       "      <td>Perfume</td>\n",
       "      <td>10</td>\n",
       "      <td>2024-07-12</td>\n",
       "      <td>FAC003</td>\n",
       "    </tr>\n",
       "  </tbody>\n",
       "</table>\n",
       "</div>"
      ],
      "text/plain": [
       "  codigo_producto     nombre_producto  cantidad fecha_compra numero_factura\n",
       "0            PB01  Alcohol Industrial        30   2025-01-21         FAC001\n",
       "1            PB02             Shampoo        10   2025-01-21         FAC001\n",
       "2            PB03         Desodorante        15   2025-01-15         FAC002\n",
       "3            PB04     Protector solar         7   2025-01-15         FAC002\n",
       "4            PB05        Talco Blanco        40   2024-07-12         FAC003\n",
       "5            PB06             Perfume        10   2024-07-12         FAC003"
      ]
     },
     "execution_count": 543,
     "metadata": {},
     "output_type": "execute_result"
    }
   ],
   "source": [
    "db_facturas "
   ]
  },
  {
   "cell_type": "code",
   "execution_count": 544,
   "metadata": {},
   "outputs": [
    {
     "data": {
      "text/plain": [
       "str"
      ]
     },
     "execution_count": 544,
     "metadata": {},
     "output_type": "execute_result"
    }
   ],
   "source": [
    "type(db_facturas['numero_factura'][0])"
   ]
  },
  {
   "cell_type": "code",
   "execution_count": 545,
   "metadata": {},
   "outputs": [
    {
     "name": "stdout",
     "output_type": "stream",
     "text": [
      "<class 'pandas.core.frame.DataFrame'>\n",
      "RangeIndex: 6 entries, 0 to 5\n",
      "Data columns (total 5 columns):\n",
      " #   Column           Non-Null Count  Dtype         \n",
      "---  ------           --------------  -----         \n",
      " 0   codigo_producto  6 non-null      object        \n",
      " 1   nombre_producto  6 non-null      object        \n",
      " 2   cantidad         6 non-null      int64         \n",
      " 3   fecha_compra     6 non-null      datetime64[ns]\n",
      " 4   numero_factura   6 non-null      object        \n",
      "dtypes: datetime64[ns](1), int64(1), object(3)\n",
      "memory usage: 372.0+ bytes\n"
     ]
    }
   ],
   "source": [
    "db_facturas.info()"
   ]
  }
 ],
 "metadata": {
  "kernelspec": {
   "display_name": "Python 3",
   "language": "python",
   "name": "python3"
  },
  "language_info": {
   "codemirror_mode": {
    "name": "ipython",
    "version": 3
   },
   "file_extension": ".py",
   "mimetype": "text/x-python",
   "name": "python",
   "nbconvert_exporter": "python",
   "pygments_lexer": "ipython3",
   "version": "3.12.0"
  }
 },
 "nbformat": 4,
 "nbformat_minor": 2
}
